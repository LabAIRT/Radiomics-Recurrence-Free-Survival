{
 "cells": [
  {
   "cell_type": "code",
   "execution_count": 1,
   "id": "632db0e3",
   "metadata": {},
   "outputs": [],
   "source": [
    "import pandas as pd\n",
    "import numpy as np\n",
    "import matplotlib.pyplot as plt\n",
    "import seaborn as sns"
   ]
  },
  {
   "cell_type": "code",
   "execution_count": 2,
   "id": "c6aec77e",
   "metadata": {},
   "outputs": [],
   "source": [
    "filename = \"Validation_Prediction_OriFeature_DeGas_Expectation_Spearman0.8_UpdateRec_AnalCancer_StratiTrainValTest_Average.xlsx\"\n",
    "data = pd.read_excel(filename, \"Combine\")\n",
    "RFS12 = \"12monRFS\"\n",
    "RFS24 = \"24monRFS\"\n",
    "RFS36 = \"36monRFS\"\n",
    "figuretitle = 'ROC Curves (Radiomics Model)'"
   ]
  },
  {
   "cell_type": "code",
   "execution_count": 3,
   "id": "20f708c9",
   "metadata": {},
   "outputs": [
    {
     "data": {
      "text/html": [
       "<div>\n",
       "<style scoped>\n",
       "    .dataframe tbody tr th:only-of-type {\n",
       "        vertical-align: middle;\n",
       "    }\n",
       "\n",
       "    .dataframe tbody tr th {\n",
       "        vertical-align: top;\n",
       "    }\n",
       "\n",
       "    .dataframe thead th {\n",
       "        text-align: right;\n",
       "    }\n",
       "</style>\n",
       "<table border=\"1\" class=\"dataframe\">\n",
       "  <thead>\n",
       "    <tr style=\"text-align: right;\">\n",
       "      <th></th>\n",
       "      <th>PatientsID</th>\n",
       "      <th>Prediction</th>\n",
       "      <th>Duration</th>\n",
       "      <th>Recurrence</th>\n",
       "    </tr>\n",
       "  </thead>\n",
       "  <tbody>\n",
       "    <tr>\n",
       "      <th>0</th>\n",
       "      <td>5007194</td>\n",
       "      <td>1104.367818</td>\n",
       "      <td>413</td>\n",
       "      <td>0</td>\n",
       "    </tr>\n",
       "    <tr>\n",
       "      <th>1</th>\n",
       "      <td>70028521</td>\n",
       "      <td>1095.311543</td>\n",
       "      <td>602</td>\n",
       "      <td>0</td>\n",
       "    </tr>\n",
       "    <tr>\n",
       "      <th>2</th>\n",
       "      <td>70057487</td>\n",
       "      <td>690.430996</td>\n",
       "      <td>935</td>\n",
       "      <td>0</td>\n",
       "    </tr>\n",
       "    <tr>\n",
       "      <th>3</th>\n",
       "      <td>70234176</td>\n",
       "      <td>117.081448</td>\n",
       "      <td>0</td>\n",
       "      <td>1</td>\n",
       "    </tr>\n",
       "    <tr>\n",
       "      <th>4</th>\n",
       "      <td>70278537</td>\n",
       "      <td>928.245941</td>\n",
       "      <td>1200</td>\n",
       "      <td>0</td>\n",
       "    </tr>\n",
       "    <tr>\n",
       "      <th>...</th>\n",
       "      <td>...</td>\n",
       "      <td>...</td>\n",
       "      <td>...</td>\n",
       "      <td>...</td>\n",
       "    </tr>\n",
       "    <tr>\n",
       "      <th>91</th>\n",
       "      <td>95060777</td>\n",
       "      <td>607.631792</td>\n",
       "      <td>588</td>\n",
       "      <td>0</td>\n",
       "    </tr>\n",
       "    <tr>\n",
       "      <th>92</th>\n",
       "      <td>95098555</td>\n",
       "      <td>834.172321</td>\n",
       "      <td>508</td>\n",
       "      <td>0</td>\n",
       "    </tr>\n",
       "    <tr>\n",
       "      <th>93</th>\n",
       "      <td>95139834</td>\n",
       "      <td>928.960683</td>\n",
       "      <td>185</td>\n",
       "      <td>0</td>\n",
       "    </tr>\n",
       "    <tr>\n",
       "      <th>94</th>\n",
       "      <td>95947521</td>\n",
       "      <td>1092.895379</td>\n",
       "      <td>366</td>\n",
       "      <td>0</td>\n",
       "    </tr>\n",
       "    <tr>\n",
       "      <th>95</th>\n",
       "      <td>96082035</td>\n",
       "      <td>1126.997089</td>\n",
       "      <td>201</td>\n",
       "      <td>0</td>\n",
       "    </tr>\n",
       "  </tbody>\n",
       "</table>\n",
       "<p>96 rows × 4 columns</p>\n",
       "</div>"
      ],
      "text/plain": [
       "    PatientsID   Prediction  Duration  Recurrence\n",
       "0      5007194  1104.367818       413           0\n",
       "1     70028521  1095.311543       602           0\n",
       "2     70057487   690.430996       935           0\n",
       "3     70234176   117.081448         0           1\n",
       "4     70278537   928.245941      1200           0\n",
       "..         ...          ...       ...         ...\n",
       "91    95060777   607.631792       588           0\n",
       "92    95098555   834.172321       508           0\n",
       "93    95139834   928.960683       185           0\n",
       "94    95947521  1092.895379       366           0\n",
       "95    96082035  1126.997089       201           0\n",
       "\n",
       "[96 rows x 4 columns]"
      ]
     },
     "execution_count": 3,
     "metadata": {},
     "output_type": "execute_result"
    }
   ],
   "source": [
    "data"
   ]
  },
  {
   "cell_type": "code",
   "execution_count": 4,
   "id": "606909fd",
   "metadata": {},
   "outputs": [
    {
     "data": {
      "text/plain": [
       "993.9296858743389"
      ]
     },
     "execution_count": 4,
     "metadata": {},
     "output_type": "execute_result"
    }
   ],
   "source": [
    "from statistics import median\n",
    "predicMed = median(data['Prediction'].values)\n",
    "predicMed"
   ]
  },
  {
   "cell_type": "code",
   "execution_count": 5,
   "id": "2e488705",
   "metadata": {},
   "outputs": [
    {
     "data": {
      "image/png": "[encoded data removed]",
      "text/plain": [
       "<Figure size 576x288 with 1 Axes>"
      ]
     },
     "metadata": {
      "needs_background": "light"
     },
     "output_type": "display_data"
    }
   ],
   "source": [
    "fig = plt.figure(figsize=(8,4))\n",
    "\n",
    "ax = fig.add_subplot(111)\n",
    "ax.set_xlabel(\"Validation cohort\")\n",
    "ax.set_ylabel(\"Predicted survival\")\n",
    "plt.plot(data['Prediction'].values,'o-', label=\"validation survival prediction\")\n",
    "plt.plot(np.ones(len(data['Prediction']))*predicMed, label=\"Median prediction\")\n",
    "plt.legend(bbox_to_anchor=(1.05, 1), loc='upper left', borderaxespad=0.)\n",
    "plt.show()"
   ]
  },
  {
   "cell_type": "code",
   "execution_count": 6,
   "id": "4cacfd41",
   "metadata": {},
   "outputs": [],
   "source": [
    "low_risk_ind = np.argwhere(data['Prediction'].values >= predicMed)\n",
    "high_risk_ind = np.argwhere(data['Prediction'].values < predicMed)"
   ]
  },
  {
   "cell_type": "code",
   "execution_count": 7,
   "id": "7335c8a9",
   "metadata": {
    "scrolled": false
   },
   "outputs": [
    {
     "data": {
      "text/html": [
       "<div>\n",
       "<style scoped>\n",
       "    .dataframe tbody tr th:only-of-type {\n",
       "        vertical-align: middle;\n",
       "    }\n",
       "\n",
       "    .dataframe tbody tr th {\n",
       "        vertical-align: top;\n",
       "    }\n",
       "\n",
       "    .dataframe thead th {\n",
       "        text-align: right;\n",
       "    }\n",
       "</style>\n",
       "<table border=\"1\" class=\"dataframe\">\n",
       "  <tbody>\n",
       "    <tr>\n",
       "      <th>t_0</th>\n",
       "      <td>-1</td>\n",
       "    </tr>\n",
       "    <tr>\n",
       "      <th>null_distribution</th>\n",
       "      <td>chi squared</td>\n",
       "    </tr>\n",
       "    <tr>\n",
       "      <th>degrees_of_freedom</th>\n",
       "      <td>1</td>\n",
       "    </tr>\n",
       "    <tr>\n",
       "      <th>alpha</th>\n",
       "      <td>0.95</td>\n",
       "    </tr>\n",
       "    <tr>\n",
       "      <th>test_name</th>\n",
       "      <td>logrank_test</td>\n",
       "    </tr>\n",
       "  </tbody>\n",
       "</table>\n",
       "</div><table border=\"1\" class=\"dataframe\">\n",
       "  <thead>\n",
       "    <tr style=\"text-align: right;\">\n",
       "      <th></th>\n",
       "      <th>test_statistic</th>\n",
       "      <th>p</th>\n",
       "      <th>-log2(p)</th>\n",
       "    </tr>\n",
       "  </thead>\n",
       "  <tbody>\n",
       "    <tr>\n",
       "      <th>0</th>\n",
       "      <td>13.57</td>\n",
       "      <td>&lt;0.005</td>\n",
       "      <td>12.09</td>\n",
       "    </tr>\n",
       "  </tbody>\n",
       "</table>"
      ],
      "text/latex": [
       "\\begin{tabular}{lrrr}\n",
       "\\toprule\n",
       "{} &  test\\_statistic &        p &   -log2(p) \\\\\n",
       "\\midrule\n",
       "0 &       13.569965 &  0.00023 &  12.087122 \\\\\n",
       "\\bottomrule\n",
       "\\end{tabular}\n"
      ],
      "text/plain": [
       "<lifelines.StatisticalResult: logrank_test>\n",
       "               t_0 = -1\n",
       " null_distribution = chi squared\n",
       "degrees_of_freedom = 1\n",
       "             alpha = 0.95\n",
       "         test_name = logrank_test\n",
       "\n",
       "---\n",
       " test_statistic      p  -log2(p)\n",
       "          13.57 <0.005     12.09"
      ]
     },
     "metadata": {},
     "output_type": "display_data"
    },
    {
     "data": {
      "image/png": "[encoded data removed]",
      "text/plain": [
       "<Figure size 432x288 with 2 Axes>"
      ]
     },
     "metadata": {
      "needs_background": "light"
     },
     "output_type": "display_data"
    }
   ],
   "source": [
    "import lifelines\n",
    "from lifelines.plotting import add_at_risk_counts\n",
    "from lifelines.statistics import logrank_test\n",
    "from lifelines import CoxPHFitter\n",
    "from lifelines.utils import concordance_index\n",
    "\n",
    "duration = data[['Duration']]\n",
    "event = data[['Recurrence']]\n",
    "\n",
    "cum_event = event\n",
    "cum_duration = duration\n",
    "\n",
    "durations = cum_duration.to_numpy()\n",
    "events= cum_event.to_numpy()\n",
    "\n",
    "ax = plt.subplot(111)\n",
    "\n",
    "ax.spines[\"right\"].set_visible(False)\n",
    "ax.spines[\"top\"].set_visible(False)\n",
    "\n",
    "kmf_low = lifelines.KaplanMeierFitter()\n",
    "ax = kmf_low.fit(durations[low_risk_ind], event_observed=events[low_risk_ind], label=\"Low Risk\").plot_survival_function(show_censors=False,ci_show=True, ax=ax,color='m')\n",
    "\n",
    "kmf_high = lifelines.KaplanMeierFitter()\n",
    "ax = kmf_high.fit(durations[high_risk_ind], event_observed=events[high_risk_ind], label=\"High Risk\").plot_survival_function(show_censors=False,ci_show=True, ax=ax,color='k') #, linestyle='dashed'\n",
    "plt.xticks(np.linspace(0,1200,11))\n",
    "plt.xlabel('Days')\n",
    "plt.ylabel('Survival probability')\n",
    "plt.legend(frameon=False)\n",
    "\n",
    "add_at_risk_counts(kmf_low, kmf_high, ax=ax)\n",
    "plt.tight_layout()\n",
    "# plt.savefig('DFS_Radiomics_Risk_0_Partition_Italy.png', dpi=300)\n",
    "\n",
    "results = logrank_test(durations[high_risk_ind], durations[low_risk_ind], events[high_risk_ind], events[low_risk_ind], alpha=.95)\n",
    "\n",
    "results.print_summary()"
   ]
  },
  {
   "cell_type": "code",
   "execution_count": 8,
   "id": "674bb29d",
   "metadata": {},
   "outputs": [],
   "source": [
    "import copy\n",
    "from sklearn.model_selection import KFold\n",
    "from lifelines.utils import concordance_index\n",
    "from sklearn import metrics"
   ]
  },
  {
   "cell_type": "code",
   "execution_count": 9,
   "id": "b500564f",
   "metadata": {},
   "outputs": [
    {
     "data": {
      "text/plain": [
       "0.7554605887939221"
      ]
     },
     "execution_count": 9,
     "metadata": {},
     "output_type": "execute_result"
    }
   ],
   "source": [
    "Cindex_val = concordance_index(\n",
    "    event_times=data['Duration'], \n",
    "    predicted_scores = data['Prediction'], \n",
    "    event_observed= data['Recurrence'],\n",
    ")\n",
    "Cindex_val"
   ]
  },
  {
   "cell_type": "code",
   "execution_count": 10,
   "id": "a0f38e33",
   "metadata": {},
   "outputs": [],
   "source": [
    "data12 = pd.read_excel(filename, RFS12)\n",
    "data24 = pd.read_excel(filename, RFS24)\n",
    "data36 = pd.read_excel(filename, RFS36)"
   ]
  },
  {
   "cell_type": "code",
   "execution_count": 14,
   "id": "cdca9b0f",
   "metadata": {},
   "outputs": [],
   "source": [
    "fpr12, tpr12, thr12 = metrics.roc_curve(data12['Recurrence'], -data12['Prediction'])\n",
    "auc12 = metrics.roc_auc_score(data12['Recurrence'].values,-data12['Prediction'].values)\n",
    "\n",
    "fpr24, tpr24, thr24 = metrics.roc_curve(data24['Recurrence'], -data24['Prediction'])\n",
    "auc24 = metrics.roc_auc_score(data24['Recurrence'].values,-data24['Prediction'].values)\n",
    "\n",
    "fpr36, tpr36, thr36 = metrics.roc_curve(data36['Recurrence'], -data36['Prediction'])\n",
    "auc36 = metrics.roc_auc_score(data36['Recurrence'].values,-data36['Prediction'].values)"
   ]
  },
  {
   "cell_type": "code",
   "execution_count": 15,
   "id": "239af8a4",
   "metadata": {},
   "outputs": [],
   "source": [
    "# # sensitivity specificity\n",
    "# from sklearn.metrics import confusion_matrix\n",
    "\n",
    "# # threshold = predicMed\n",
    "# threshold = 365*1\n",
    "# predicted_class12 = np.zeros(data12['Prediction'].shape)\n",
    "# predicted_class12[data12['Prediction'].values<=threshold]=1\n",
    "# cm12 = confusion_matrix(data12['Recurrence'].values,predicted_class12)\n",
    "# print('Confusion Matrix 12mon RFS: \\n', cm12)\n",
    "\n",
    "# threshold = 365*2\n",
    "# predicted_class24 = np.zeros(data24['Prediction'].shape)\n",
    "# predicted_class24[data24['Prediction'].values<=threshold]=1\n",
    "# cm24 = confusion_matrix(data24['Recurrence'].values,predicted_class24)\n",
    "# print('Confusion Matrix 12mon RFS: \\n', cm24)\n",
    "\n",
    "# threshold = 365*3\n",
    "# predicted_class36 = np.zeros(data36['Prediction'].shape)\n",
    "# predicted_class36[data36['Prediction'].values<=threshold]=1\n",
    "# cm36 = confusion_matrix(data36['Recurrence'].values,predicted_class36)\n",
    "# print('Confusion Matrix 12mon RFS: \\n', cm36)"
   ]
  },
  {
   "cell_type": "code",
   "execution_count": 16,
   "id": "bbab5556",
   "metadata": {},
   "outputs": [
    {
     "name": "stdout",
     "output_type": "stream",
     "text": [
      "Confusion Matrix 12mon RFS: \n",
      " [[37 26]\n",
      " [ 5 17]]\n",
      "Confusion Matrix 12mon RFS: \n",
      " [[27 12]\n",
      " [ 6 22]]\n",
      "Confusion Matrix 12mon RFS: \n",
      " [[15  6]\n",
      " [ 9 19]]\n"
     ]
    }
   ],
   "source": [
    "# sensitivity specificity\n",
    "from sklearn.metrics import confusion_matrix\n",
    "\n",
    "predicMed12 = median(data12['Prediction'].values)\n",
    "threshold12 = predicMed12\n",
    "predicted_class12 = np.zeros(data12['Prediction'].shape)\n",
    "predicted_class12[data12['Prediction'].values<=threshold12]=1\n",
    "cm12 = confusion_matrix(data12['Recurrence'].values,predicted_class12)\n",
    "print('Confusion Matrix 12mon RFS: \\n', cm12)\n",
    "\n",
    "predicMed24 = median(data24['Prediction'].values)\n",
    "threshold24 = predicMed24\n",
    "predicted_class24 = np.zeros(data24['Prediction'].shape)\n",
    "predicted_class24[data24['Prediction'].values<=threshold24]=1\n",
    "cm24 = confusion_matrix(data24['Recurrence'].values,predicted_class24)\n",
    "print('Confusion Matrix 12mon RFS: \\n', cm24)\n",
    "\n",
    "predicMed36 = median(data36['Prediction'].values)\n",
    "threshold36 = predicMed36\n",
    "predicted_class36 = np.zeros(data36['Prediction'].shape)\n",
    "predicted_class36[data36['Prediction'].values<=threshold36]=1\n",
    "cm36 = confusion_matrix(data36['Recurrence'].values,predicted_class36)\n",
    "print('Confusion Matrix 12mon RFS: \\n', cm36)"
   ]
  },
  {
   "cell_type": "code",
   "execution_count": 17,
   "id": "87e9758c",
   "metadata": {},
   "outputs": [
    {
     "name": "stdout",
     "output_type": "stream",
     "text": [
      "Accuracy 12mon:  0.6352941176470588\n",
      "Sensitivity 12mon:  0.5873015873015873\n",
      "Specificity 12mon:  0.7727272727272727\n"
     ]
    }
   ],
   "source": [
    "total=sum(sum(cm12))\n",
    "accuracy12=(cm12[0,0]+cm12[1,1])/total\n",
    "print ('Accuracy 12mon: ', accuracy12)\n",
    "specificity12 = cm12[0,0]/(cm12[0,0]+cm12[0,1])\n",
    "print('Sensitivity 12mon: ', specificity12)\n",
    "sensitivity12 = cm12[1,1]/(cm12[1,0]+cm12[1,1])\n",
    "print('Specificity 12mon: ', sensitivity12)"
   ]
  },
  {
   "cell_type": "code",
   "execution_count": 18,
   "id": "a68bcb54",
   "metadata": {},
   "outputs": [
    {
     "name": "stdout",
     "output_type": "stream",
     "text": [
      "Accuracy 24mon:  0.7313432835820896\n",
      "Sensitivity 24mon:  0.6923076923076923\n",
      "Specificity 24mon:  0.7857142857142857\n"
     ]
    }
   ],
   "source": [
    "total=sum(sum(cm24))\n",
    "accuracy24=(cm24[0,0]+cm24[1,1])/total\n",
    "print ('Accuracy 24mon: ', accuracy24)\n",
    "specificity24 = cm24[0,0]/(cm24[0,0]+cm24[0,1])\n",
    "print('Sensitivity 24mon: ', specificity24)\n",
    "sensitivity24 = cm24[1,1]/(cm24[1,0]+cm24[1,1])\n",
    "print('Specificity 24mon: ', sensitivity24)"
   ]
  },
  {
   "cell_type": "code",
   "execution_count": 19,
   "id": "6fb09152",
   "metadata": {},
   "outputs": [
    {
     "name": "stdout",
     "output_type": "stream",
     "text": [
      "Accuracy 36mon:  0.6938775510204082\n",
      "Sensitivity 36mon:  0.7142857142857143\n",
      "Specificity 36mon:  0.6785714285714286\n"
     ]
    }
   ],
   "source": [
    "total=sum(sum(cm36))\n",
    "accuracy36=(cm36[0,0]+cm36[1,1])/total\n",
    "print ('Accuracy 36mon: ', accuracy36)\n",
    "specificity36 = cm36[0,0]/(cm36[0,0]+cm36[0,1])\n",
    "print('Sensitivity 36mon: ', specificity36)\n",
    "sensitivity36 = cm36[1,1]/(cm36[1,0]+cm36[1,1])\n",
    "print('Specificity 36mon: ', sensitivity36)"
   ]
  },
  {
   "cell_type": "code",
   "execution_count": 20,
   "id": "48941eaf",
   "metadata": {},
   "outputs": [
    {
     "data": {
      "image/png": "[encoded data removed]",
      "text/plain": [
       "<Figure size 432x288 with 1 Axes>"
      ]
     },
     "metadata": {
      "needs_background": "light"
     },
     "output_type": "display_data"
    }
   ],
   "source": [
    "ax = plt.figure()\n",
    "lw = 2\n",
    "plt.plot(fpr12, tpr12, color=\"darkorange\", lw=lw, label=\"12 mon RFS(AUC = %0.4f)\" % auc12)\n",
    "plt.plot(fpr24, tpr24, color=\"brown\", lw=lw, label=\"24 mon RFS(AUC = %0.4f)\" % auc24)\n",
    "plt.plot(fpr36, tpr36, color=\"blue\", lw=lw, label=\"36 mon RFS(AUC = %0.4f)\" % auc36)\n",
    "plt.plot([0, 1], [0, 1], color=\"navy\", lw=lw, linestyle=\"--\")\n",
    "plt.xlim([0.0, 1.0])\n",
    "plt.ylim([0.0, 1.05])\n",
    "plt.xlabel(\"False Positive Rate\")\n",
    "plt.ylabel(\"True Positive Rate\")\n",
    "plt.title(figuretitle)\n",
    "plt.legend(loc=\"lower right\")\n",
    "plt.show()"
   ]
  },
  {
   "cell_type": "code",
   "execution_count": 21,
   "id": "27edf16e",
   "metadata": {},
   "outputs": [],
   "source": [
    "ax.savefig(figuretitle+'.tif', format='tif', dpi=1200)"
   ]
  },
  {
   "cell_type": "code",
   "execution_count": 22,
   "id": "9142f7bb",
   "metadata": {},
   "outputs": [],
   "source": [
    "# write AUC data to file\n",
    "plots12 = np.column_stack([fpr12,tpr12])\n",
    "plots12_df = pd.DataFrame(plots12,columns=['FPR-12','TPR-12'])\n",
    "plots24 = np.column_stack([fpr24,tpr24])\n",
    "plots24_df = pd.DataFrame(plots24,columns=['FPR-24','TPR-24'])\n",
    "plots36 = np.column_stack([fpr36,tpr36])\n",
    "plots36_df = pd.DataFrame(plots36,columns=['FPR-36','TPR-36'])\n",
    "with pd.ExcelWriter(filename, engine='openpyxl', mode='a',if_sheet_exists=\"replace\",) as writer:  \n",
    "    plots12_df.to_excel(writer, sheet_name='AUCPlot12')\n",
    "with pd.ExcelWriter(filename, engine='openpyxl', mode='a',if_sheet_exists=\"replace\",) as writer:  \n",
    "    plots24_df.to_excel(writer, sheet_name='AUCPlot24')\n",
    "with pd.ExcelWriter(filename, engine='openpyxl', mode='a',if_sheet_exists=\"replace\",) as writer:  \n",
    "    plots36_df.to_excel(writer, sheet_name='AUCPlot36')\n",
    "        "
   ]
  },
  {
   "cell_type": "code",
   "execution_count": 23,
   "id": "93c07eb2",
   "metadata": {},
   "outputs": [],
   "source": [
    "# write results to file\n",
    "CI = [Cindex_val12,Cindex_val24,Cindex_val36]\n",
    "AUC = AUC = [auc12,auc24,auc36]\n",
    "Sen = [sensitivity12, sensitivity24, sensitivity36]\n",
    "Spe = [specificity12, specificity24, specificity36]\n",
    "Acu = [accuracy12, accuracy24, accuracy36]\n",
    "results = np.column_stack([CI, AUC, Sen, Spe, Acu])\n",
    "res_df = pd.DataFrame(results,columns=['C-Index','AUC','Sensitivity','Specificity','Accuracy'], \n",
    "                      index=['12mon','24mon', '36mon'])\n",
    "\n",
    "with pd.ExcelWriter(filename, engine='openpyxl', mode='a') as writer:  \n",
    "    res_df.to_excel(writer, sheet_name='ResultSummary')"
   ]
  },
  {
   "cell_type": "code",
   "execution_count": 24,
   "id": "94447d40",
   "metadata": {},
   "outputs": [
    {
     "data": {
      "image/png": "[encoded data removed]",
      "text/plain": [
       "<Figure size 576x288 with 1 Axes>"
      ]
     },
     "metadata": {
      "needs_background": "light"
     },
     "output_type": "display_data"
    }
   ],
   "source": [
    "fig = plt.figure(figsize=(8,4))\n",
    "ax = fig.add_subplot(111)\n",
    "ax.set_xlabel(\"Predicted survival\")\n",
    "ax.set_ylabel(\"Duration\")\n",
    "plt.scatter(data['Prediction'].values,data['Duration'].values, alpha=0.5)\n",
    "plt.xlim([0, 1200])\n",
    "plt.show()"
   ]
  },
  {
   "cell_type": "code",
   "execution_count": null,
   "id": "aa3ed3d6",
   "metadata": {},
   "outputs": [],
   "source": []
  }
 ],
 "metadata": {
  "kernelspec": {
   "display_name": "Python 3",
   "language": "python",
   "name": "python3"
  },
  "language_info": {
   "codemirror_mode": {
    "name": "ipython",
    "version": 3
   },
   "file_extension": ".py",
   "mimetype": "text/x-python",
   "name": "python",
   "nbconvert_exporter": "python",
   "pygments_lexer": "ipython3",
   "version": "3.8.8"
  }
 },
 "nbformat": 4,
 "nbformat_minor": 5
}
